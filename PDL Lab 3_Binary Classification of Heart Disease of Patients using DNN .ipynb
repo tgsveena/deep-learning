{
 "cells": [
  {
   "cell_type": "code",
   "execution_count": 1,
   "id": "c8708093",
   "metadata": {},
   "outputs": [],
   "source": [
    "#Harishmitha\n",
    "#225229113"
   ]
  },
  {
   "cell_type": "markdown",
   "id": "08ad84e8",
   "metadata": {},
   "source": [
    "### 1.Load the dataset"
   ]
  },
  {
   "cell_type": "code",
   "execution_count": 1,
   "id": "3b4bc810",
   "metadata": {},
   "outputs": [],
   "source": [
    "import pandas as pd"
   ]
  },
  {
   "cell_type": "code",
   "execution_count": 2,
   "id": "0827cd8c",
   "metadata": {},
   "outputs": [],
   "source": [
    "df = pd.read_csv(\"heart_data.csv\")"
   ]
  },
  {
   "cell_type": "code",
   "execution_count": 3,
   "id": "b1ac5bf4",
   "metadata": {},
   "outputs": [
    {
     "data": {
      "text/html": [
       "<div>\n",
       "<style scoped>\n",
       "    .dataframe tbody tr th:only-of-type {\n",
       "        vertical-align: middle;\n",
       "    }\n",
       "\n",
       "    .dataframe tbody tr th {\n",
       "        vertical-align: top;\n",
       "    }\n",
       "\n",
       "    .dataframe thead th {\n",
       "        text-align: right;\n",
       "    }\n",
       "</style>\n",
       "<table border=\"1\" class=\"dataframe\">\n",
       "  <thead>\n",
       "    <tr style=\"text-align: right;\">\n",
       "      <th></th>\n",
       "      <th>age</th>\n",
       "      <th>sex</th>\n",
       "      <th>cp</th>\n",
       "      <th>trestbps</th>\n",
       "      <th>chol</th>\n",
       "      <th>fbs</th>\n",
       "      <th>restecg</th>\n",
       "      <th>thalach</th>\n",
       "      <th>exang</th>\n",
       "      <th>oldpeak</th>\n",
       "      <th>slope</th>\n",
       "      <th>ca</th>\n",
       "      <th>thal</th>\n",
       "      <th>target</th>\n",
       "    </tr>\n",
       "  </thead>\n",
       "  <tbody>\n",
       "    <tr>\n",
       "      <th>0</th>\n",
       "      <td>63</td>\n",
       "      <td>1</td>\n",
       "      <td>3</td>\n",
       "      <td>145</td>\n",
       "      <td>233</td>\n",
       "      <td>1</td>\n",
       "      <td>0</td>\n",
       "      <td>150</td>\n",
       "      <td>0</td>\n",
       "      <td>2.3</td>\n",
       "      <td>0</td>\n",
       "      <td>0</td>\n",
       "      <td>1</td>\n",
       "      <td>1</td>\n",
       "    </tr>\n",
       "    <tr>\n",
       "      <th>1</th>\n",
       "      <td>37</td>\n",
       "      <td>1</td>\n",
       "      <td>2</td>\n",
       "      <td>130</td>\n",
       "      <td>250</td>\n",
       "      <td>0</td>\n",
       "      <td>1</td>\n",
       "      <td>187</td>\n",
       "      <td>0</td>\n",
       "      <td>3.5</td>\n",
       "      <td>0</td>\n",
       "      <td>0</td>\n",
       "      <td>2</td>\n",
       "      <td>1</td>\n",
       "    </tr>\n",
       "    <tr>\n",
       "      <th>2</th>\n",
       "      <td>41</td>\n",
       "      <td>0</td>\n",
       "      <td>1</td>\n",
       "      <td>130</td>\n",
       "      <td>204</td>\n",
       "      <td>0</td>\n",
       "      <td>0</td>\n",
       "      <td>172</td>\n",
       "      <td>0</td>\n",
       "      <td>1.4</td>\n",
       "      <td>2</td>\n",
       "      <td>0</td>\n",
       "      <td>2</td>\n",
       "      <td>1</td>\n",
       "    </tr>\n",
       "    <tr>\n",
       "      <th>3</th>\n",
       "      <td>56</td>\n",
       "      <td>1</td>\n",
       "      <td>1</td>\n",
       "      <td>120</td>\n",
       "      <td>236</td>\n",
       "      <td>0</td>\n",
       "      <td>1</td>\n",
       "      <td>178</td>\n",
       "      <td>0</td>\n",
       "      <td>0.8</td>\n",
       "      <td>2</td>\n",
       "      <td>0</td>\n",
       "      <td>2</td>\n",
       "      <td>1</td>\n",
       "    </tr>\n",
       "    <tr>\n",
       "      <th>4</th>\n",
       "      <td>57</td>\n",
       "      <td>0</td>\n",
       "      <td>0</td>\n",
       "      <td>120</td>\n",
       "      <td>354</td>\n",
       "      <td>0</td>\n",
       "      <td>1</td>\n",
       "      <td>163</td>\n",
       "      <td>1</td>\n",
       "      <td>0.6</td>\n",
       "      <td>2</td>\n",
       "      <td>0</td>\n",
       "      <td>2</td>\n",
       "      <td>1</td>\n",
       "    </tr>\n",
       "  </tbody>\n",
       "</table>\n",
       "</div>"
      ],
      "text/plain": [
       "   age  sex  cp  trestbps  chol  fbs  restecg  thalach  exang  oldpeak  slope  \\\n",
       "0   63    1   3       145   233    1        0      150      0      2.3      0   \n",
       "1   37    1   2       130   250    0        1      187      0      3.5      0   \n",
       "2   41    0   1       130   204    0        0      172      0      1.4      2   \n",
       "3   56    1   1       120   236    0        1      178      0      0.8      2   \n",
       "4   57    0   0       120   354    0        1      163      1      0.6      2   \n",
       "\n",
       "   ca  thal  target  \n",
       "0   0     1       1  \n",
       "1   0     2       1  \n",
       "2   0     2       1  \n",
       "3   0     2       1  \n",
       "4   0     2       1  "
      ]
     },
     "execution_count": 3,
     "metadata": {},
     "output_type": "execute_result"
    }
   ],
   "source": [
    "df.head()"
   ]
  },
  {
   "cell_type": "code",
   "execution_count": 4,
   "id": "4bcbfe68",
   "metadata": {},
   "outputs": [
    {
     "data": {
      "text/plain": [
       "(303, 14)"
      ]
     },
     "execution_count": 4,
     "metadata": {},
     "output_type": "execute_result"
    }
   ],
   "source": [
    "df.shape"
   ]
  },
  {
   "cell_type": "code",
   "execution_count": 5,
   "id": "ba7b23f7",
   "metadata": {},
   "outputs": [
    {
     "data": {
      "text/plain": [
       "4242"
      ]
     },
     "execution_count": 5,
     "metadata": {},
     "output_type": "execute_result"
    }
   ],
   "source": [
    "df.size"
   ]
  },
  {
   "cell_type": "code",
   "execution_count": 6,
   "id": "0c6afa57",
   "metadata": {},
   "outputs": [
    {
     "data": {
      "text/plain": [
       "Index(['age', 'sex', 'cp', 'trestbps', 'chol', 'fbs', 'restecg', 'thalach',\n",
       "       'exang', 'oldpeak', 'slope', 'ca', 'thal', 'target'],\n",
       "      dtype='object')"
      ]
     },
     "execution_count": 6,
     "metadata": {},
     "output_type": "execute_result"
    }
   ],
   "source": [
    "df.columns"
   ]
  },
  {
   "cell_type": "markdown",
   "id": "459cc933",
   "metadata": {},
   "source": [
    "### 2. Split the dataset for training and testing (test size = 20%)"
   ]
  },
  {
   "cell_type": "code",
   "execution_count": 7,
   "id": "8a887a06",
   "metadata": {},
   "outputs": [],
   "source": [
    "X = df\n",
    "y = df.pop('target')"
   ]
  },
  {
   "cell_type": "code",
   "execution_count": 8,
   "id": "a594d6dd",
   "metadata": {
    "scrolled": true
   },
   "outputs": [],
   "source": [
    "from sklearn.model_selection import train_test_split\n",
    "X_train, X_test, y_train, y_test = train_test_split(X, y, test_size=0.2, random_state=42)"
   ]
  },
  {
   "cell_type": "code",
   "execution_count": 9,
   "id": "6b406a18",
   "metadata": {},
   "outputs": [
    {
     "data": {
      "text/plain": [
       "(242, 13)"
      ]
     },
     "execution_count": 9,
     "metadata": {},
     "output_type": "execute_result"
    }
   ],
   "source": [
    "X_train.shape"
   ]
  },
  {
   "cell_type": "code",
   "execution_count": 10,
   "id": "c2156317",
   "metadata": {},
   "outputs": [
    {
     "data": {
      "text/plain": [
       "(61, 13)"
      ]
     },
     "execution_count": 10,
     "metadata": {},
     "output_type": "execute_result"
    }
   ],
   "source": [
    "X_test.shape"
   ]
  },
  {
   "cell_type": "markdown",
   "id": "d20baaeb",
   "metadata": {},
   "source": [
    "### 3. Create a neural network based on the following requirements"
   ]
  },
  {
   "cell_type": "markdown",
   "id": "1afac217",
   "metadata": {},
   "source": [
    "Input size = No. of features in X_train = 13"
   ]
  },
  {
   "cell_type": "markdown",
   "id": "09007b73",
   "metadata": {},
   "source": [
    "No. of neurons/units in the Dense layer = 8, with Relu activation function"
   ]
  },
  {
   "cell_type": "markdown",
   "id": "e53e6332",
   "metadata": {},
   "source": [
    "No. of neurons/units in output layer = 1, with sigmoid activation function"
   ]
  },
  {
   "cell_type": "code",
   "execution_count": 11,
   "id": "f9c75c0d",
   "metadata": {},
   "outputs": [],
   "source": [
    "from tensorflow.keras.models import Sequential\n",
    "from tensorflow.keras.layers import Dense"
   ]
  },
  {
   "cell_type": "code",
   "execution_count": 12,
   "id": "f876d8a5",
   "metadata": {},
   "outputs": [],
   "source": [
    "model = Sequential()\n",
    "model.add(Dense(8, input_dim=13, activation='relu'))\n",
    "model.add(Dense(1, activation='sigmoid'))"
   ]
  },
  {
   "cell_type": "markdown",
   "id": "298c514a",
   "metadata": {},
   "source": [
    "### 4.Compile your model"
   ]
  },
  {
   "cell_type": "code",
   "execution_count": 13,
   "id": "abce081d",
   "metadata": {},
   "outputs": [],
   "source": [
    "from tensorflow import keras"
   ]
  },
  {
   "cell_type": "code",
   "execution_count": 14,
   "id": "1040c19e",
   "metadata": {},
   "outputs": [],
   "source": [
    "optimizer = keras.optimizers.RMSprop(learning_rate=0.001)"
   ]
  },
  {
   "cell_type": "code",
   "execution_count": 15,
   "id": "c56bcf67",
   "metadata": {},
   "outputs": [
    {
     "name": "stdout",
     "output_type": "stream",
     "text": [
      "Epoch 1/10\n",
      "9/9 [==============================] - 1s 2ms/step - loss: 0.4504 - accuracy: 0.5496\n",
      "Epoch 2/10\n",
      "9/9 [==============================] - 0s 1ms/step - loss: 0.4504 - accuracy: 0.5496\n",
      "Epoch 3/10\n",
      "9/9 [==============================] - 0s 1ms/step - loss: 0.4504 - accuracy: 0.5496\n",
      "Epoch 4/10\n",
      "9/9 [==============================] - 0s 1ms/step - loss: 0.4504 - accuracy: 0.5496\n",
      "Epoch 5/10\n",
      "9/9 [==============================] - 0s 1ms/step - loss: 0.4504 - accuracy: 0.5496\n",
      "Epoch 6/10\n",
      "9/9 [==============================] - 0s 1ms/step - loss: 0.4504 - accuracy: 0.5496\n",
      "Epoch 7/10\n",
      "9/9 [==============================] - 0s 1ms/step - loss: 0.4504 - accuracy: 0.5496\n",
      "Epoch 8/10\n",
      "9/9 [==============================] - 0s 1ms/step - loss: 0.4504 - accuracy: 0.5496\n",
      "Epoch 9/10\n",
      "9/9 [==============================] - 0s 1ms/step - loss: 0.4504 - accuracy: 0.5496\n",
      "Epoch 10/10\n",
      "9/9 [==============================] - 0s 1ms/step - loss: 0.4504 - accuracy: 0.5496\n"
     ]
    },
    {
     "data": {
      "text/plain": [
       "<keras.callbacks.History at 0x2dca0f91450>"
      ]
     },
     "execution_count": 15,
     "metadata": {},
     "output_type": "execute_result"
    }
   ],
   "source": [
    "model.compile(loss='mse', optimizer=optimizer, metrics=['accuracy'])\n",
    "model.fit(X_train, y_train, epochs=10, batch_size=30, verbose=1)"
   ]
  },
  {
   "cell_type": "code",
   "execution_count": 16,
   "id": "ede8b3e8",
   "metadata": {},
   "outputs": [
    {
     "name": "stdout",
     "output_type": "stream",
     "text": [
      "2/2 [==============================] - 0s 3ms/step - loss: 0.4754 - accuracy: 0.5246\n"
     ]
    },
    {
     "data": {
      "text/plain": [
       "[0.4754098355770111, 0.5245901346206665]"
      ]
     },
     "execution_count": 16,
     "metadata": {},
     "output_type": "execute_result"
    }
   ],
   "source": [
    "model.evaluate(X_test, y_test)"
   ]
  },
  {
   "cell_type": "markdown",
   "id": "baffb61f",
   "metadata": {},
   "source": [
    "### 5. Print the summary of the model:"
   ]
  },
  {
   "cell_type": "code",
   "execution_count": 17,
   "id": "4aa558b8",
   "metadata": {},
   "outputs": [
    {
     "name": "stdout",
     "output_type": "stream",
     "text": [
      "Model: \"sequential\"\n",
      "_________________________________________________________________\n",
      " Layer (type)                Output Shape              Param #   \n",
      "=================================================================\n",
      " dense (Dense)               (None, 8)                 112       \n",
      "                                                                 \n",
      " dense_1 (Dense)             (None, 1)                 9         \n",
      "                                                                 \n",
      "=================================================================\n",
      "Total params: 121\n",
      "Trainable params: 121\n",
      "Non-trainable params: 0\n",
      "_________________________________________________________________\n"
     ]
    }
   ],
   "source": [
    "model.summary()"
   ]
  },
  {
   "cell_type": "markdown",
   "id": "f7e6c4a0",
   "metadata": {},
   "source": [
    "### 6.Train the model"
   ]
  },
  {
   "cell_type": "code",
   "execution_count": 18,
   "id": "44f69fb3",
   "metadata": {},
   "outputs": [
    {
     "name": "stdout",
     "output_type": "stream",
     "text": [
      "Epoch 1/200\n",
      "25/25 [==============================] - 1s 1ms/step - loss: 0.4504 - accuracy: 0.5496\n",
      "Epoch 2/200\n",
      "25/25 [==============================] - 0s 1ms/step - loss: 0.4504 - accuracy: 0.5496\n",
      "Epoch 3/200\n",
      "25/25 [==============================] - 0s 1ms/step - loss: 0.4504 - accuracy: 0.5496\n",
      "Epoch 4/200\n",
      "25/25 [==============================] - 0s 1ms/step - loss: 0.4504 - accuracy: 0.5496\n",
      "Epoch 5/200\n",
      "25/25 [==============================] - 0s 1ms/step - loss: 0.4504 - accuracy: 0.5496\n",
      "Epoch 6/200\n",
      "25/25 [==============================] - 0s 1ms/step - loss: 0.4504 - accuracy: 0.5496\n",
      "Epoch 7/200\n",
      "25/25 [==============================] - 0s 1ms/step - loss: 0.4504 - accuracy: 0.5496\n",
      "Epoch 8/200\n",
      "25/25 [==============================] - 0s 1ms/step - loss: 0.4504 - accuracy: 0.5496\n",
      "Epoch 9/200\n",
      "25/25 [==============================] - 0s 1ms/step - loss: 0.4504 - accuracy: 0.5496\n",
      "Epoch 10/200\n",
      "25/25 [==============================] - 0s 1ms/step - loss: 0.4504 - accuracy: 0.5496\n",
      "Epoch 11/200\n",
      "25/25 [==============================] - 0s 1ms/step - loss: 0.4504 - accuracy: 0.5496\n",
      "Epoch 12/200\n",
      "25/25 [==============================] - 0s 1ms/step - loss: 0.4504 - accuracy: 0.5496\n",
      "Epoch 13/200\n",
      "25/25 [==============================] - 0s 1ms/step - loss: 0.4504 - accuracy: 0.5496\n",
      "Epoch 14/200\n",
      "25/25 [==============================] - 0s 1ms/step - loss: 0.4504 - accuracy: 0.5496\n",
      "Epoch 15/200\n",
      "25/25 [==============================] - 0s 1ms/step - loss: 0.4504 - accuracy: 0.5496\n",
      "Epoch 16/200\n",
      "25/25 [==============================] - 0s 1ms/step - loss: 0.4504 - accuracy: 0.5496\n",
      "Epoch 17/200\n",
      "25/25 [==============================] - 0s 1ms/step - loss: 0.4504 - accuracy: 0.5496\n",
      "Epoch 18/200\n",
      "25/25 [==============================] - 0s 1ms/step - loss: 0.4504 - accuracy: 0.5496\n",
      "Epoch 19/200\n",
      "25/25 [==============================] - 0s 1ms/step - loss: 0.4504 - accuracy: 0.5496\n",
      "Epoch 20/200\n",
      "25/25 [==============================] - 0s 1ms/step - loss: 0.4504 - accuracy: 0.5496\n",
      "Epoch 21/200\n",
      "25/25 [==============================] - 0s 1ms/step - loss: 0.4504 - accuracy: 0.5496\n",
      "Epoch 22/200\n",
      "25/25 [==============================] - 0s 1ms/step - loss: 0.4504 - accuracy: 0.5496\n",
      "Epoch 23/200\n",
      "25/25 [==============================] - 0s 1ms/step - loss: 0.4504 - accuracy: 0.5496\n",
      "Epoch 24/200\n",
      "25/25 [==============================] - 0s 1ms/step - loss: 0.4504 - accuracy: 0.5496\n",
      "Epoch 25/200\n",
      "25/25 [==============================] - 0s 1ms/step - loss: 0.4504 - accuracy: 0.5496\n",
      "Epoch 26/200\n",
      "25/25 [==============================] - 0s 1ms/step - loss: 0.4504 - accuracy: 0.5496\n",
      "Epoch 27/200\n",
      "25/25 [==============================] - 0s 1ms/step - loss: 0.4504 - accuracy: 0.5496\n",
      "Epoch 28/200\n",
      "25/25 [==============================] - 0s 1ms/step - loss: 0.4504 - accuracy: 0.5496\n",
      "Epoch 29/200\n",
      "25/25 [==============================] - 0s 1ms/step - loss: 0.4504 - accuracy: 0.5496\n",
      "Epoch 30/200\n",
      "25/25 [==============================] - 0s 1ms/step - loss: 0.4504 - accuracy: 0.5496\n",
      "Epoch 31/200\n",
      "25/25 [==============================] - 0s 1ms/step - loss: 0.4504 - accuracy: 0.5496\n",
      "Epoch 32/200\n",
      "25/25 [==============================] - 0s 1ms/step - loss: 0.4504 - accuracy: 0.5496\n",
      "Epoch 33/200\n",
      "25/25 [==============================] - 0s 1ms/step - loss: 0.4504 - accuracy: 0.5496\n",
      "Epoch 34/200\n",
      "25/25 [==============================] - 0s 1ms/step - loss: 0.4504 - accuracy: 0.5496\n",
      "Epoch 35/200\n",
      "25/25 [==============================] - 0s 1ms/step - loss: 0.4504 - accuracy: 0.5496\n",
      "Epoch 36/200\n",
      "25/25 [==============================] - 0s 1ms/step - loss: 0.4504 - accuracy: 0.5496\n",
      "Epoch 37/200\n",
      "25/25 [==============================] - 0s 1ms/step - loss: 0.4504 - accuracy: 0.5496\n",
      "Epoch 38/200\n",
      "25/25 [==============================] - 0s 1ms/step - loss: 0.4504 - accuracy: 0.5496\n",
      "Epoch 39/200\n",
      "25/25 [==============================] - 0s 1ms/step - loss: 0.4504 - accuracy: 0.5496\n",
      "Epoch 40/200\n",
      "25/25 [==============================] - 0s 1ms/step - loss: 0.4504 - accuracy: 0.5496\n",
      "Epoch 41/200\n",
      "25/25 [==============================] - 0s 1ms/step - loss: 0.4504 - accuracy: 0.5496\n",
      "Epoch 42/200\n",
      "25/25 [==============================] - 0s 1ms/step - loss: 0.4504 - accuracy: 0.5496\n",
      "Epoch 43/200\n",
      "25/25 [==============================] - 0s 1ms/step - loss: 0.4504 - accuracy: 0.5496\n",
      "Epoch 44/200\n",
      "25/25 [==============================] - 0s 1ms/step - loss: 0.4504 - accuracy: 0.5496\n",
      "Epoch 45/200\n",
      "25/25 [==============================] - 0s 1ms/step - loss: 0.4504 - accuracy: 0.5496\n",
      "Epoch 46/200\n",
      "25/25 [==============================] - 0s 1ms/step - loss: 0.4504 - accuracy: 0.5496\n",
      "Epoch 47/200\n",
      "25/25 [==============================] - 0s 1ms/step - loss: 0.4504 - accuracy: 0.5496\n",
      "Epoch 48/200\n",
      "25/25 [==============================] - 0s 1ms/step - loss: 0.4504 - accuracy: 0.5496\n",
      "Epoch 49/200\n",
      "25/25 [==============================] - 0s 1ms/step - loss: 0.4504 - accuracy: 0.5496\n",
      "Epoch 50/200\n",
      "25/25 [==============================] - 0s 1ms/step - loss: 0.4504 - accuracy: 0.5496\n",
      "Epoch 51/200\n",
      "25/25 [==============================] - 0s 1ms/step - loss: 0.4504 - accuracy: 0.5496\n",
      "Epoch 52/200\n",
      "25/25 [==============================] - 0s 1ms/step - loss: 0.4504 - accuracy: 0.5496\n",
      "Epoch 53/200\n",
      "25/25 [==============================] - 0s 1ms/step - loss: 0.4504 - accuracy: 0.5496\n",
      "Epoch 54/200\n",
      "25/25 [==============================] - 0s 1ms/step - loss: 0.4504 - accuracy: 0.5496\n",
      "Epoch 55/200\n",
      "25/25 [==============================] - 0s 1ms/step - loss: 0.4504 - accuracy: 0.5496\n",
      "Epoch 56/200\n",
      "25/25 [==============================] - 0s 1ms/step - loss: 0.4504 - accuracy: 0.5496\n",
      "Epoch 57/200\n",
      "25/25 [==============================] - 0s 1ms/step - loss: 0.4504 - accuracy: 0.5496\n",
      "Epoch 58/200\n",
      "25/25 [==============================] - 0s 1ms/step - loss: 0.4504 - accuracy: 0.5496\n",
      "Epoch 59/200\n",
      "25/25 [==============================] - 0s 1ms/step - loss: 0.4504 - accuracy: 0.5496\n",
      "Epoch 60/200\n",
      "25/25 [==============================] - 0s 1ms/step - loss: 0.4504 - accuracy: 0.5496\n",
      "Epoch 61/200\n",
      "25/25 [==============================] - 0s 1ms/step - loss: 0.4504 - accuracy: 0.5496\n",
      "Epoch 62/200\n",
      "25/25 [==============================] - 0s 1ms/step - loss: 0.4504 - accuracy: 0.5496\n",
      "Epoch 63/200\n",
      "25/25 [==============================] - 0s 1ms/step - loss: 0.4504 - accuracy: 0.5496\n",
      "Epoch 64/200\n",
      "25/25 [==============================] - 0s 1ms/step - loss: 0.4504 - accuracy: 0.5496\n",
      "Epoch 65/200\n",
      "25/25 [==============================] - 0s 1ms/step - loss: 0.4504 - accuracy: 0.5496\n",
      "Epoch 66/200\n",
      "25/25 [==============================] - 0s 1ms/step - loss: 0.4504 - accuracy: 0.5496\n",
      "Epoch 67/200\n",
      "25/25 [==============================] - 0s 1ms/step - loss: 0.4504 - accuracy: 0.5496\n",
      "Epoch 68/200\n",
      "25/25 [==============================] - 0s 1ms/step - loss: 0.4504 - accuracy: 0.5496\n",
      "Epoch 69/200\n",
      "25/25 [==============================] - 0s 1ms/step - loss: 0.4504 - accuracy: 0.5496\n",
      "Epoch 70/200\n",
      "25/25 [==============================] - 0s 1ms/step - loss: 0.4504 - accuracy: 0.5496\n",
      "Epoch 71/200\n",
      "25/25 [==============================] - 0s 1ms/step - loss: 0.4504 - accuracy: 0.5496\n",
      "Epoch 72/200\n",
      "25/25 [==============================] - 0s 1ms/step - loss: 0.4504 - accuracy: 0.5496\n",
      "Epoch 73/200\n",
      "25/25 [==============================] - 0s 1ms/step - loss: 0.4504 - accuracy: 0.5496\n",
      "Epoch 74/200\n",
      "25/25 [==============================] - 0s 1ms/step - loss: 0.4504 - accuracy: 0.5496\n",
      "Epoch 75/200\n",
      "25/25 [==============================] - 0s 1ms/step - loss: 0.4504 - accuracy: 0.5496\n",
      "Epoch 76/200\n",
      "25/25 [==============================] - 0s 1ms/step - loss: 0.4504 - accuracy: 0.5496\n",
      "Epoch 77/200\n",
      "25/25 [==============================] - 0s 1ms/step - loss: 0.4504 - accuracy: 0.5496\n",
      "Epoch 78/200\n",
      "25/25 [==============================] - 0s 1ms/step - loss: 0.4504 - accuracy: 0.5496\n",
      "Epoch 79/200\n",
      "25/25 [==============================] - 0s 1ms/step - loss: 0.4504 - accuracy: 0.5496\n",
      "Epoch 80/200\n",
      "25/25 [==============================] - 0s 1ms/step - loss: 0.4504 - accuracy: 0.5496\n",
      "Epoch 81/200\n",
      "25/25 [==============================] - 0s 1ms/step - loss: 0.4504 - accuracy: 0.5496\n",
      "Epoch 82/200\n",
      "25/25 [==============================] - 0s 1ms/step - loss: 0.4504 - accuracy: 0.5496\n",
      "Epoch 83/200\n",
      "25/25 [==============================] - 0s 1ms/step - loss: 0.4504 - accuracy: 0.5496\n",
      "Epoch 84/200\n",
      "25/25 [==============================] - 0s 1ms/step - loss: 0.4504 - accuracy: 0.5496\n",
      "Epoch 85/200\n",
      "25/25 [==============================] - 0s 1ms/step - loss: 0.4504 - accuracy: 0.5496\n",
      "Epoch 86/200\n",
      "25/25 [==============================] - 0s 1ms/step - loss: 0.4504 - accuracy: 0.5496\n",
      "Epoch 87/200\n",
      "25/25 [==============================] - 0s 1ms/step - loss: 0.4504 - accuracy: 0.5496\n",
      "Epoch 88/200\n",
      "25/25 [==============================] - 0s 1ms/step - loss: 0.4504 - accuracy: 0.5496\n",
      "Epoch 89/200\n",
      "25/25 [==============================] - 0s 1ms/step - loss: 0.4504 - accuracy: 0.5496\n",
      "Epoch 90/200\n",
      "25/25 [==============================] - 0s 1ms/step - loss: 0.4504 - accuracy: 0.5496\n",
      "Epoch 91/200\n",
      "25/25 [==============================] - 0s 1ms/step - loss: 0.4504 - accuracy: 0.5496\n",
      "Epoch 92/200\n",
      "25/25 [==============================] - 0s 1ms/step - loss: 0.4504 - accuracy: 0.5496\n",
      "Epoch 93/200\n",
      "25/25 [==============================] - 0s 1ms/step - loss: 0.4504 - accuracy: 0.5496\n",
      "Epoch 94/200\n",
      "25/25 [==============================] - 0s 1ms/step - loss: 0.4504 - accuracy: 0.5496\n",
      "Epoch 95/200\n",
      "25/25 [==============================] - 0s 1ms/step - loss: 0.4504 - accuracy: 0.5496\n",
      "Epoch 96/200\n",
      "25/25 [==============================] - 0s 1ms/step - loss: 0.4504 - accuracy: 0.5496\n",
      "Epoch 97/200\n",
      "25/25 [==============================] - 0s 1ms/step - loss: 0.4504 - accuracy: 0.5496\n",
      "Epoch 98/200\n",
      "25/25 [==============================] - 0s 1ms/step - loss: 0.4504 - accuracy: 0.5496\n",
      "Epoch 99/200\n",
      "25/25 [==============================] - 0s 1ms/step - loss: 0.4504 - accuracy: 0.5496\n",
      "Epoch 100/200\n",
      "25/25 [==============================] - 0s 1ms/step - loss: 0.4504 - accuracy: 0.5496\n",
      "Epoch 101/200\n",
      "25/25 [==============================] - 0s 1ms/step - loss: 0.4504 - accuracy: 0.5496\n",
      "Epoch 102/200\n",
      "25/25 [==============================] - 0s 1ms/step - loss: 0.4504 - accuracy: 0.5496\n",
      "Epoch 103/200\n",
      "25/25 [==============================] - 0s 1ms/step - loss: 0.4504 - accuracy: 0.5496\n",
      "Epoch 104/200\n",
      "25/25 [==============================] - 0s 1ms/step - loss: 0.4504 - accuracy: 0.5496\n",
      "Epoch 105/200\n",
      "25/25 [==============================] - 0s 1ms/step - loss: 0.4504 - accuracy: 0.5496\n",
      "Epoch 106/200\n",
      "25/25 [==============================] - 0s 1ms/step - loss: 0.4504 - accuracy: 0.5496\n",
      "Epoch 107/200\n",
      "25/25 [==============================] - 0s 1ms/step - loss: 0.4504 - accuracy: 0.5496\n",
      "Epoch 108/200\n",
      "25/25 [==============================] - 0s 1ms/step - loss: 0.4504 - accuracy: 0.5496\n",
      "Epoch 109/200\n",
      "25/25 [==============================] - 0s 1ms/step - loss: 0.4504 - accuracy: 0.5496\n",
      "Epoch 110/200\n",
      "25/25 [==============================] - 0s 1ms/step - loss: 0.4504 - accuracy: 0.5496\n",
      "Epoch 111/200\n",
      "25/25 [==============================] - 0s 1ms/step - loss: 0.4504 - accuracy: 0.5496\n",
      "Epoch 112/200\n",
      "25/25 [==============================] - 0s 1ms/step - loss: 0.4504 - accuracy: 0.5496\n",
      "Epoch 113/200\n",
      "25/25 [==============================] - 0s 1ms/step - loss: 0.4504 - accuracy: 0.5496\n",
      "Epoch 114/200\n",
      "25/25 [==============================] - 0s 1ms/step - loss: 0.4504 - accuracy: 0.5496\n",
      "Epoch 115/200\n",
      "25/25 [==============================] - 0s 1ms/step - loss: 0.4504 - accuracy: 0.5496\n",
      "Epoch 116/200\n",
      "25/25 [==============================] - 0s 1ms/step - loss: 0.4504 - accuracy: 0.5496\n",
      "Epoch 117/200\n",
      "25/25 [==============================] - 0s 1ms/step - loss: 0.4504 - accuracy: 0.5496\n",
      "Epoch 118/200\n",
      "25/25 [==============================] - 0s 1ms/step - loss: 0.4504 - accuracy: 0.5496\n",
      "Epoch 119/200\n",
      "25/25 [==============================] - 0s 1ms/step - loss: 0.4504 - accuracy: 0.5496\n",
      "Epoch 120/200\n",
      "25/25 [==============================] - 0s 1ms/step - loss: 0.4504 - accuracy: 0.5496\n",
      "Epoch 121/200\n",
      "25/25 [==============================] - 0s 1ms/step - loss: 0.4504 - accuracy: 0.5496\n",
      "Epoch 122/200\n",
      "25/25 [==============================] - 0s 1ms/step - loss: 0.4504 - accuracy: 0.5496\n",
      "Epoch 123/200\n",
      "25/25 [==============================] - 0s 1ms/step - loss: 0.4504 - accuracy: 0.5496\n",
      "Epoch 124/200\n",
      "25/25 [==============================] - 0s 1ms/step - loss: 0.4504 - accuracy: 0.5496\n",
      "Epoch 125/200\n",
      "25/25 [==============================] - 0s 1ms/step - loss: 0.4504 - accuracy: 0.5496\n",
      "Epoch 126/200\n",
      "25/25 [==============================] - 0s 1ms/step - loss: 0.4504 - accuracy: 0.5496\n",
      "Epoch 127/200\n",
      "25/25 [==============================] - 0s 1ms/step - loss: 0.4504 - accuracy: 0.5496\n",
      "Epoch 128/200\n",
      "25/25 [==============================] - 0s 1ms/step - loss: 0.4504 - accuracy: 0.5496\n",
      "Epoch 129/200\n",
      "25/25 [==============================] - 0s 1ms/step - loss: 0.4504 - accuracy: 0.5496\n",
      "Epoch 130/200\n",
      "25/25 [==============================] - 0s 1ms/step - loss: 0.4504 - accuracy: 0.5496\n",
      "Epoch 131/200\n",
      "25/25 [==============================] - 0s 1ms/step - loss: 0.4504 - accuracy: 0.5496\n",
      "Epoch 132/200\n",
      "25/25 [==============================] - 0s 2ms/step - loss: 0.4504 - accuracy: 0.5496\n",
      "Epoch 133/200\n",
      "25/25 [==============================] - 0s 1ms/step - loss: 0.4504 - accuracy: 0.5496\n",
      "Epoch 134/200\n",
      "25/25 [==============================] - 0s 1ms/step - loss: 0.4504 - accuracy: 0.5496\n",
      "Epoch 135/200\n",
      "25/25 [==============================] - 0s 1ms/step - loss: 0.4504 - accuracy: 0.5496\n",
      "Epoch 136/200\n",
      "25/25 [==============================] - 0s 1ms/step - loss: 0.4504 - accuracy: 0.5496\n",
      "Epoch 137/200\n",
      "25/25 [==============================] - 0s 1ms/step - loss: 0.4504 - accuracy: 0.5496\n",
      "Epoch 138/200\n",
      "25/25 [==============================] - 0s 1ms/step - loss: 0.4504 - accuracy: 0.5496\n",
      "Epoch 139/200\n",
      "25/25 [==============================] - 0s 1ms/step - loss: 0.4504 - accuracy: 0.5496\n",
      "Epoch 140/200\n",
      "25/25 [==============================] - 0s 1ms/step - loss: 0.4504 - accuracy: 0.5496\n",
      "Epoch 141/200\n",
      "25/25 [==============================] - 0s 1ms/step - loss: 0.4504 - accuracy: 0.5496\n",
      "Epoch 142/200\n",
      "25/25 [==============================] - 0s 1ms/step - loss: 0.4504 - accuracy: 0.5496\n",
      "Epoch 143/200\n",
      "25/25 [==============================] - 0s 1ms/step - loss: 0.4504 - accuracy: 0.5496\n",
      "Epoch 144/200\n",
      "25/25 [==============================] - 0s 1ms/step - loss: 0.4504 - accuracy: 0.5496\n",
      "Epoch 145/200\n",
      "25/25 [==============================] - 0s 1ms/step - loss: 0.4504 - accuracy: 0.5496\n",
      "Epoch 146/200\n",
      "25/25 [==============================] - 0s 1ms/step - loss: 0.4504 - accuracy: 0.5496\n",
      "Epoch 147/200\n",
      "25/25 [==============================] - 0s 1ms/step - loss: 0.4504 - accuracy: 0.5496\n",
      "Epoch 148/200\n",
      "25/25 [==============================] - 0s 1ms/step - loss: 0.4504 - accuracy: 0.5496\n",
      "Epoch 149/200\n",
      "25/25 [==============================] - 0s 1ms/step - loss: 0.4504 - accuracy: 0.5496\n",
      "Epoch 150/200\n",
      "25/25 [==============================] - 0s 1ms/step - loss: 0.4504 - accuracy: 0.5496\n",
      "Epoch 151/200\n",
      "25/25 [==============================] - 0s 1ms/step - loss: 0.4504 - accuracy: 0.5496\n",
      "Epoch 152/200\n",
      "25/25 [==============================] - 0s 1ms/step - loss: 0.4504 - accuracy: 0.5496\n",
      "Epoch 153/200\n",
      "25/25 [==============================] - 0s 1ms/step - loss: 0.4504 - accuracy: 0.5496\n",
      "Epoch 154/200\n",
      "25/25 [==============================] - 0s 1ms/step - loss: 0.4504 - accuracy: 0.5496\n",
      "Epoch 155/200\n",
      "25/25 [==============================] - 0s 1ms/step - loss: 0.4504 - accuracy: 0.5496\n",
      "Epoch 156/200\n",
      "25/25 [==============================] - 0s 1ms/step - loss: 0.4504 - accuracy: 0.5496\n",
      "Epoch 157/200\n",
      "25/25 [==============================] - 0s 1ms/step - loss: 0.4504 - accuracy: 0.5496\n",
      "Epoch 158/200\n",
      "25/25 [==============================] - 0s 1ms/step - loss: 0.4504 - accuracy: 0.5496\n",
      "Epoch 159/200\n",
      "25/25 [==============================] - 0s 1ms/step - loss: 0.4504 - accuracy: 0.5496\n",
      "Epoch 160/200\n",
      "25/25 [==============================] - 0s 1ms/step - loss: 0.4504 - accuracy: 0.5496\n",
      "Epoch 161/200\n",
      "25/25 [==============================] - 0s 1ms/step - loss: 0.4504 - accuracy: 0.5496\n",
      "Epoch 162/200\n",
      "25/25 [==============================] - 0s 1ms/step - loss: 0.4504 - accuracy: 0.5496\n",
      "Epoch 163/200\n",
      "25/25 [==============================] - 0s 1ms/step - loss: 0.4504 - accuracy: 0.5496\n",
      "Epoch 164/200\n",
      "25/25 [==============================] - 0s 1ms/step - loss: 0.4504 - accuracy: 0.5496\n",
      "Epoch 165/200\n",
      "25/25 [==============================] - 0s 1ms/step - loss: 0.4504 - accuracy: 0.5496\n",
      "Epoch 166/200\n",
      "25/25 [==============================] - 0s 1ms/step - loss: 0.4504 - accuracy: 0.5496\n",
      "Epoch 167/200\n",
      "25/25 [==============================] - 0s 1ms/step - loss: 0.4504 - accuracy: 0.5496\n",
      "Epoch 168/200\n",
      "25/25 [==============================] - 0s 1ms/step - loss: 0.4504 - accuracy: 0.5496\n",
      "Epoch 169/200\n",
      "25/25 [==============================] - 0s 1ms/step - loss: 0.4504 - accuracy: 0.5496\n",
      "Epoch 170/200\n",
      "25/25 [==============================] - 0s 1ms/step - loss: 0.4504 - accuracy: 0.5496\n",
      "Epoch 171/200\n",
      "25/25 [==============================] - 0s 1ms/step - loss: 0.4504 - accuracy: 0.5496\n",
      "Epoch 172/200\n",
      "25/25 [==============================] - 0s 1ms/step - loss: 0.4504 - accuracy: 0.5496\n",
      "Epoch 173/200\n",
      "25/25 [==============================] - 0s 1ms/step - loss: 0.4504 - accuracy: 0.5496\n",
      "Epoch 174/200\n",
      "25/25 [==============================] - 0s 1ms/step - loss: 0.4504 - accuracy: 0.5496\n",
      "Epoch 175/200\n",
      "25/25 [==============================] - 0s 1ms/step - loss: 0.4504 - accuracy: 0.5496\n",
      "Epoch 176/200\n",
      "25/25 [==============================] - 0s 1ms/step - loss: 0.4504 - accuracy: 0.5496\n",
      "Epoch 177/200\n",
      "25/25 [==============================] - 0s 1ms/step - loss: 0.4504 - accuracy: 0.5496\n",
      "Epoch 178/200\n",
      "25/25 [==============================] - 0s 1ms/step - loss: 0.4504 - accuracy: 0.5496\n",
      "Epoch 179/200\n",
      "25/25 [==============================] - 0s 1ms/step - loss: 0.4504 - accuracy: 0.5496\n",
      "Epoch 180/200\n",
      "25/25 [==============================] - 0s 1ms/step - loss: 0.4504 - accuracy: 0.5496\n",
      "Epoch 181/200\n",
      "25/25 [==============================] - 0s 1ms/step - loss: 0.4504 - accuracy: 0.5496\n",
      "Epoch 182/200\n",
      "25/25 [==============================] - 0s 1ms/step - loss: 0.4504 - accuracy: 0.5496\n",
      "Epoch 183/200\n",
      "25/25 [==============================] - 0s 1ms/step - loss: 0.4504 - accuracy: 0.5496\n",
      "Epoch 184/200\n",
      "25/25 [==============================] - 0s 1ms/step - loss: 0.4504 - accuracy: 0.5496\n",
      "Epoch 185/200\n",
      "25/25 [==============================] - 0s 1ms/step - loss: 0.4504 - accuracy: 0.5496\n",
      "Epoch 186/200\n",
      "25/25 [==============================] - 0s 1ms/step - loss: 0.4504 - accuracy: 0.5496\n",
      "Epoch 187/200\n",
      "25/25 [==============================] - 0s 1ms/step - loss: 0.4504 - accuracy: 0.5496\n",
      "Epoch 188/200\n",
      "25/25 [==============================] - 0s 1ms/step - loss: 0.4504 - accuracy: 0.5496\n",
      "Epoch 189/200\n",
      "25/25 [==============================] - 0s 1ms/step - loss: 0.4504 - accuracy: 0.5496\n",
      "Epoch 190/200\n",
      "25/25 [==============================] - 0s 1ms/step - loss: 0.4504 - accuracy: 0.5496\n",
      "Epoch 191/200\n",
      "25/25 [==============================] - 0s 1ms/step - loss: 0.4504 - accuracy: 0.5496\n",
      "Epoch 192/200\n",
      "25/25 [==============================] - 0s 1ms/step - loss: 0.4504 - accuracy: 0.5496\n",
      "Epoch 193/200\n",
      "25/25 [==============================] - 0s 1ms/step - loss: 0.4504 - accuracy: 0.5496\n",
      "Epoch 194/200\n",
      "25/25 [==============================] - 0s 1ms/step - loss: 0.4504 - accuracy: 0.5496\n",
      "Epoch 195/200\n",
      "25/25 [==============================] - 0s 1ms/step - loss: 0.4504 - accuracy: 0.5496\n",
      "Epoch 196/200\n",
      "25/25 [==============================] - 0s 1ms/step - loss: 0.4504 - accuracy: 0.5496\n",
      "Epoch 197/200\n",
      "25/25 [==============================] - 0s 1ms/step - loss: 0.4504 - accuracy: 0.5496\n",
      "Epoch 198/200\n",
      "25/25 [==============================] - 0s 1ms/step - loss: 0.4504 - accuracy: 0.5496\n",
      "Epoch 199/200\n",
      "25/25 [==============================] - 0s 1ms/step - loss: 0.4504 - accuracy: 0.5496\n",
      "Epoch 200/200\n",
      "25/25 [==============================] - 0s 1ms/step - loss: 0.4504 - accuracy: 0.5496\n"
     ]
    },
    {
     "data": {
      "text/plain": [
       "<keras.callbacks.History at 0x2dca36e9ed0>"
      ]
     },
     "execution_count": 18,
     "metadata": {},
     "output_type": "execute_result"
    }
   ],
   "source": [
    "model.compile(loss='mse', optimizer=optimizer, metrics=['accuracy'])\n",
    "model.fit(X_train, y_train, epochs=200, batch_size=10, verbose=1)"
   ]
  },
  {
   "cell_type": "code",
   "execution_count": 19,
   "id": "9a9e1f26",
   "metadata": {},
   "outputs": [
    {
     "name": "stdout",
     "output_type": "stream",
     "text": [
      "2/2 [==============================] - 0s 2ms/step - loss: 0.4754 - accuracy: 0.5246\n"
     ]
    },
    {
     "data": {
      "text/plain": [
       "[0.4754098355770111, 0.5245901346206665]"
      ]
     },
     "execution_count": 19,
     "metadata": {},
     "output_type": "execute_result"
    }
   ],
   "source": [
    "model.evaluate(X_test, y_test)"
   ]
  },
  {
   "cell_type": "markdown",
   "id": "e2c8ed9b",
   "metadata": {},
   "source": [
    "### 7.Save the trained model"
   ]
  },
  {
   "cell_type": "code",
   "execution_count": 20,
   "id": "1ef93136",
   "metadata": {},
   "outputs": [
    {
     "name": "stdout",
     "output_type": "stream",
     "text": [
      "Epoch 1/100\n",
      "97/97 [==============================] - 0s 2ms/step - loss: 0.4560 - accuracy: 0.5440 - val_loss: 0.4286 - val_accuracy: 0.5714\n",
      "Epoch 2/100\n",
      "97/97 [==============================] - 0s 1ms/step - loss: 0.4560 - accuracy: 0.5440 - val_loss: 0.4286 - val_accuracy: 0.5714\n",
      "Epoch 3/100\n",
      "97/97 [==============================] - 0s 1ms/step - loss: 0.4560 - accuracy: 0.5440 - val_loss: 0.4286 - val_accuracy: 0.5714\n",
      "Epoch 4/100\n",
      "97/97 [==============================] - 0s 2ms/step - loss: 0.4560 - accuracy: 0.5440 - val_loss: 0.4286 - val_accuracy: 0.5714\n",
      "Epoch 5/100\n",
      "97/97 [==============================] - 0s 2ms/step - loss: 0.4560 - accuracy: 0.5440 - val_loss: 0.4286 - val_accuracy: 0.5714\n",
      "Epoch 6/100\n",
      "97/97 [==============================] - 0s 1ms/step - loss: 0.4560 - accuracy: 0.5440 - val_loss: 0.4286 - val_accuracy: 0.5714\n",
      "Epoch 7/100\n",
      "97/97 [==============================] - 0s 2ms/step - loss: 0.4560 - accuracy: 0.5440 - val_loss: 0.4286 - val_accuracy: 0.5714\n",
      "Epoch 8/100\n",
      "97/97 [==============================] - 0s 2ms/step - loss: 0.4560 - accuracy: 0.5440 - val_loss: 0.4286 - val_accuracy: 0.5714\n",
      "Epoch 9/100\n",
      "97/97 [==============================] - 0s 2ms/step - loss: 0.4560 - accuracy: 0.5440 - val_loss: 0.4286 - val_accuracy: 0.5714\n",
      "Epoch 10/100\n",
      "97/97 [==============================] - 0s 2ms/step - loss: 0.4560 - accuracy: 0.5440 - val_loss: 0.4286 - val_accuracy: 0.5714\n",
      "Epoch 11/100\n",
      "97/97 [==============================] - 0s 2ms/step - loss: 0.4560 - accuracy: 0.5440 - val_loss: 0.4286 - val_accuracy: 0.5714\n",
      "Epoch 12/100\n",
      "97/97 [==============================] - 0s 2ms/step - loss: 0.4560 - accuracy: 0.5440 - val_loss: 0.4286 - val_accuracy: 0.5714\n",
      "Epoch 13/100\n",
      "97/97 [==============================] - 0s 2ms/step - loss: 0.4560 - accuracy: 0.5440 - val_loss: 0.4286 - val_accuracy: 0.5714\n",
      "Epoch 14/100\n",
      "97/97 [==============================] - 0s 2ms/step - loss: 0.4560 - accuracy: 0.5440 - val_loss: 0.4286 - val_accuracy: 0.5714\n",
      "Epoch 15/100\n",
      "97/97 [==============================] - 0s 2ms/step - loss: 0.4560 - accuracy: 0.5440 - val_loss: 0.4286 - val_accuracy: 0.5714\n",
      "Epoch 16/100\n",
      "97/97 [==============================] - 0s 2ms/step - loss: 0.4560 - accuracy: 0.5440 - val_loss: 0.4286 - val_accuracy: 0.5714\n",
      "Epoch 17/100\n",
      "97/97 [==============================] - 0s 2ms/step - loss: 0.4560 - accuracy: 0.5440 - val_loss: 0.4286 - val_accuracy: 0.5714\n",
      "Epoch 18/100\n",
      "97/97 [==============================] - 0s 2ms/step - loss: 0.4560 - accuracy: 0.5440 - val_loss: 0.4286 - val_accuracy: 0.5714\n",
      "Epoch 19/100\n",
      "97/97 [==============================] - 0s 1ms/step - loss: 0.4560 - accuracy: 0.5440 - val_loss: 0.4286 - val_accuracy: 0.5714\n",
      "Epoch 20/100\n",
      "97/97 [==============================] - 0s 2ms/step - loss: 0.4560 - accuracy: 0.5440 - val_loss: 0.4286 - val_accuracy: 0.5714\n",
      "Epoch 21/100\n",
      "97/97 [==============================] - 0s 1ms/step - loss: 0.4560 - accuracy: 0.5440 - val_loss: 0.4286 - val_accuracy: 0.5714\n",
      "Epoch 22/100\n",
      "97/97 [==============================] - 0s 2ms/step - loss: 0.4560 - accuracy: 0.5440 - val_loss: 0.4286 - val_accuracy: 0.5714\n",
      "Epoch 23/100\n",
      "97/97 [==============================] - 0s 1ms/step - loss: 0.4560 - accuracy: 0.5440 - val_loss: 0.4286 - val_accuracy: 0.5714\n",
      "Epoch 24/100\n",
      "97/97 [==============================] - 0s 1ms/step - loss: 0.4560 - accuracy: 0.5440 - val_loss: 0.4286 - val_accuracy: 0.5714\n",
      "Epoch 25/100\n",
      "97/97 [==============================] - 0s 1ms/step - loss: 0.4560 - accuracy: 0.5440 - val_loss: 0.4286 - val_accuracy: 0.5714\n",
      "Epoch 26/100\n",
      "97/97 [==============================] - 0s 2ms/step - loss: 0.4560 - accuracy: 0.5440 - val_loss: 0.4286 - val_accuracy: 0.5714\n",
      "Epoch 27/100\n",
      "97/97 [==============================] - 0s 1ms/step - loss: 0.4560 - accuracy: 0.5440 - val_loss: 0.4286 - val_accuracy: 0.5714\n",
      "Epoch 28/100\n",
      "97/97 [==============================] - 0s 1ms/step - loss: 0.4560 - accuracy: 0.5440 - val_loss: 0.4286 - val_accuracy: 0.5714\n",
      "Epoch 29/100\n",
      "97/97 [==============================] - 0s 2ms/step - loss: 0.4560 - accuracy: 0.5440 - val_loss: 0.4286 - val_accuracy: 0.5714\n",
      "Epoch 30/100\n",
      "97/97 [==============================] - 0s 1ms/step - loss: 0.4560 - accuracy: 0.5440 - val_loss: 0.4286 - val_accuracy: 0.5714\n",
      "Epoch 31/100\n",
      "97/97 [==============================] - 0s 1ms/step - loss: 0.4560 - accuracy: 0.5440 - val_loss: 0.4286 - val_accuracy: 0.5714\n",
      "Epoch 32/100\n",
      "97/97 [==============================] - 0s 1ms/step - loss: 0.4560 - accuracy: 0.5440 - val_loss: 0.4286 - val_accuracy: 0.5714\n",
      "Epoch 33/100\n",
      "97/97 [==============================] - 0s 1ms/step - loss: 0.4560 - accuracy: 0.5440 - val_loss: 0.4286 - val_accuracy: 0.5714\n",
      "Epoch 34/100\n",
      "97/97 [==============================] - 0s 2ms/step - loss: 0.4560 - accuracy: 0.5440 - val_loss: 0.4286 - val_accuracy: 0.5714\n",
      "Epoch 35/100\n",
      "97/97 [==============================] - 0s 1ms/step - loss: 0.4560 - accuracy: 0.5440 - val_loss: 0.4286 - val_accuracy: 0.5714\n",
      "Epoch 36/100\n",
      "97/97 [==============================] - 0s 2ms/step - loss: 0.4560 - accuracy: 0.5440 - val_loss: 0.4286 - val_accuracy: 0.5714\n",
      "Epoch 37/100\n",
      "97/97 [==============================] - 0s 1ms/step - loss: 0.4560 - accuracy: 0.5440 - val_loss: 0.4286 - val_accuracy: 0.5714\n",
      "Epoch 38/100\n",
      "97/97 [==============================] - 0s 1ms/step - loss: 0.4560 - accuracy: 0.5440 - val_loss: 0.4286 - val_accuracy: 0.5714\n",
      "Epoch 39/100\n",
      "97/97 [==============================] - 0s 2ms/step - loss: 0.4560 - accuracy: 0.5440 - val_loss: 0.4286 - val_accuracy: 0.5714\n",
      "Epoch 40/100\n",
      "97/97 [==============================] - 0s 2ms/step - loss: 0.4560 - accuracy: 0.5440 - val_loss: 0.4286 - val_accuracy: 0.5714\n",
      "Epoch 41/100\n",
      "97/97 [==============================] - 0s 1ms/step - loss: 0.4560 - accuracy: 0.5440 - val_loss: 0.4286 - val_accuracy: 0.5714\n",
      "Epoch 42/100\n",
      "97/97 [==============================] - 0s 1ms/step - loss: 0.4560 - accuracy: 0.5440 - val_loss: 0.4286 - val_accuracy: 0.5714\n",
      "Epoch 43/100\n",
      "97/97 [==============================] - 0s 2ms/step - loss: 0.4560 - accuracy: 0.5440 - val_loss: 0.4286 - val_accuracy: 0.5714\n",
      "Epoch 44/100\n",
      "97/97 [==============================] - 0s 1ms/step - loss: 0.4560 - accuracy: 0.5440 - val_loss: 0.4286 - val_accuracy: 0.5714\n",
      "Epoch 45/100\n",
      "97/97 [==============================] - 0s 1ms/step - loss: 0.4560 - accuracy: 0.5440 - val_loss: 0.4286 - val_accuracy: 0.5714\n",
      "Epoch 46/100\n",
      "97/97 [==============================] - 0s 1ms/step - loss: 0.4560 - accuracy: 0.5440 - val_loss: 0.4286 - val_accuracy: 0.5714\n",
      "Epoch 47/100\n",
      "97/97 [==============================] - 0s 2ms/step - loss: 0.4560 - accuracy: 0.5440 - val_loss: 0.4286 - val_accuracy: 0.5714\n",
      "Epoch 48/100\n",
      "97/97 [==============================] - 0s 1ms/step - loss: 0.4560 - accuracy: 0.5440 - val_loss: 0.4286 - val_accuracy: 0.5714\n",
      "Epoch 49/100\n",
      "97/97 [==============================] - 0s 2ms/step - loss: 0.4560 - accuracy: 0.5440 - val_loss: 0.4286 - val_accuracy: 0.5714\n",
      "Epoch 50/100\n",
      "97/97 [==============================] - 0s 1ms/step - loss: 0.4560 - accuracy: 0.5440 - val_loss: 0.4286 - val_accuracy: 0.5714\n",
      "Epoch 51/100\n",
      "97/97 [==============================] - 0s 1ms/step - loss: 0.4560 - accuracy: 0.5440 - val_loss: 0.4286 - val_accuracy: 0.5714\n",
      "Epoch 52/100\n",
      "97/97 [==============================] - 0s 2ms/step - loss: 0.4560 - accuracy: 0.5440 - val_loss: 0.4286 - val_accuracy: 0.5714\n",
      "Epoch 53/100\n",
      "97/97 [==============================] - 0s 1ms/step - loss: 0.4560 - accuracy: 0.5440 - val_loss: 0.4286 - val_accuracy: 0.5714\n",
      "Epoch 54/100\n",
      "97/97 [==============================] - 0s 1ms/step - loss: 0.4560 - accuracy: 0.5440 - val_loss: 0.4286 - val_accuracy: 0.5714\n",
      "Epoch 55/100\n",
      "97/97 [==============================] - 0s 1ms/step - loss: 0.4560 - accuracy: 0.5440 - val_loss: 0.4286 - val_accuracy: 0.5714\n",
      "Epoch 56/100\n",
      "97/97 [==============================] - 0s 1ms/step - loss: 0.4560 - accuracy: 0.5440 - val_loss: 0.4286 - val_accuracy: 0.5714\n",
      "Epoch 57/100\n",
      "97/97 [==============================] - 0s 1ms/step - loss: 0.4560 - accuracy: 0.5440 - val_loss: 0.4286 - val_accuracy: 0.5714\n",
      "Epoch 58/100\n",
      "97/97 [==============================] - 0s 1ms/step - loss: 0.4560 - accuracy: 0.5440 - val_loss: 0.4286 - val_accuracy: 0.5714\n",
      "Epoch 59/100\n",
      "97/97 [==============================] - 0s 1ms/step - loss: 0.4560 - accuracy: 0.5440 - val_loss: 0.4286 - val_accuracy: 0.5714\n",
      "Epoch 60/100\n",
      "97/97 [==============================] - 0s 1ms/step - loss: 0.4560 - accuracy: 0.5440 - val_loss: 0.4286 - val_accuracy: 0.5714\n",
      "Epoch 61/100\n",
      "97/97 [==============================] - 0s 1ms/step - loss: 0.4560 - accuracy: 0.5440 - val_loss: 0.4286 - val_accuracy: 0.5714\n",
      "Epoch 62/100\n",
      "97/97 [==============================] - 0s 1ms/step - loss: 0.4560 - accuracy: 0.5440 - val_loss: 0.4286 - val_accuracy: 0.5714\n",
      "Epoch 63/100\n",
      "97/97 [==============================] - 0s 1ms/step - loss: 0.4560 - accuracy: 0.5440 - val_loss: 0.4286 - val_accuracy: 0.5714\n",
      "Epoch 64/100\n",
      "97/97 [==============================] - 0s 1ms/step - loss: 0.4560 - accuracy: 0.5440 - val_loss: 0.4286 - val_accuracy: 0.5714\n",
      "Epoch 65/100\n",
      "97/97 [==============================] - 0s 1ms/step - loss: 0.4560 - accuracy: 0.5440 - val_loss: 0.4286 - val_accuracy: 0.5714\n",
      "Epoch 66/100\n",
      "97/97 [==============================] - 0s 1ms/step - loss: 0.4560 - accuracy: 0.5440 - val_loss: 0.4286 - val_accuracy: 0.5714\n",
      "Epoch 67/100\n",
      "97/97 [==============================] - 0s 1ms/step - loss: 0.4560 - accuracy: 0.5440 - val_loss: 0.4286 - val_accuracy: 0.5714\n",
      "Epoch 68/100\n",
      "97/97 [==============================] - 0s 1ms/step - loss: 0.4560 - accuracy: 0.5440 - val_loss: 0.4286 - val_accuracy: 0.5714\n",
      "Epoch 69/100\n",
      "97/97 [==============================] - 0s 1ms/step - loss: 0.4560 - accuracy: 0.5440 - val_loss: 0.4286 - val_accuracy: 0.5714\n",
      "Epoch 70/100\n",
      "97/97 [==============================] - 0s 1ms/step - loss: 0.4560 - accuracy: 0.5440 - val_loss: 0.4286 - val_accuracy: 0.5714\n",
      "Epoch 71/100\n",
      "97/97 [==============================] - 0s 1ms/step - loss: 0.4560 - accuracy: 0.5440 - val_loss: 0.4286 - val_accuracy: 0.5714\n",
      "Epoch 72/100\n",
      "97/97 [==============================] - 0s 1ms/step - loss: 0.4560 - accuracy: 0.5440 - val_loss: 0.4286 - val_accuracy: 0.5714\n",
      "Epoch 73/100\n",
      "97/97 [==============================] - 0s 1ms/step - loss: 0.4560 - accuracy: 0.5440 - val_loss: 0.4286 - val_accuracy: 0.5714\n",
      "Epoch 74/100\n",
      "97/97 [==============================] - 0s 1ms/step - loss: 0.4560 - accuracy: 0.5440 - val_loss: 0.4286 - val_accuracy: 0.5714\n",
      "Epoch 75/100\n",
      "97/97 [==============================] - 0s 1ms/step - loss: 0.4560 - accuracy: 0.5440 - val_loss: 0.4286 - val_accuracy: 0.5714\n",
      "Epoch 76/100\n",
      "97/97 [==============================] - 0s 1ms/step - loss: 0.4560 - accuracy: 0.5440 - val_loss: 0.4286 - val_accuracy: 0.5714\n",
      "Epoch 77/100\n",
      "97/97 [==============================] - 0s 1ms/step - loss: 0.4560 - accuracy: 0.5440 - val_loss: 0.4286 - val_accuracy: 0.5714\n",
      "Epoch 78/100\n",
      "97/97 [==============================] - 0s 1ms/step - loss: 0.4560 - accuracy: 0.5440 - val_loss: 0.4286 - val_accuracy: 0.5714\n",
      "Epoch 79/100\n",
      "97/97 [==============================] - 0s 1ms/step - loss: 0.4560 - accuracy: 0.5440 - val_loss: 0.4286 - val_accuracy: 0.5714\n",
      "Epoch 80/100\n",
      "97/97 [==============================] - 0s 2ms/step - loss: 0.4560 - accuracy: 0.5440 - val_loss: 0.4286 - val_accuracy: 0.5714\n",
      "Epoch 81/100\n",
      "97/97 [==============================] - 0s 1ms/step - loss: 0.4560 - accuracy: 0.5440 - val_loss: 0.4286 - val_accuracy: 0.5714\n",
      "Epoch 82/100\n",
      "97/97 [==============================] - 0s 1ms/step - loss: 0.4560 - accuracy: 0.5440 - val_loss: 0.4286 - val_accuracy: 0.5714\n",
      "Epoch 83/100\n",
      "97/97 [==============================] - 0s 1ms/step - loss: 0.4560 - accuracy: 0.5440 - val_loss: 0.4286 - val_accuracy: 0.5714\n",
      "Epoch 84/100\n",
      "97/97 [==============================] - 0s 1ms/step - loss: 0.4560 - accuracy: 0.5440 - val_loss: 0.4286 - val_accuracy: 0.5714\n",
      "Epoch 85/100\n",
      "97/97 [==============================] - 0s 2ms/step - loss: 0.4560 - accuracy: 0.5440 - val_loss: 0.4286 - val_accuracy: 0.5714\n",
      "Epoch 86/100\n",
      "97/97 [==============================] - 0s 1ms/step - loss: 0.4560 - accuracy: 0.5440 - val_loss: 0.4286 - val_accuracy: 0.5714\n",
      "Epoch 87/100\n",
      "97/97 [==============================] - 0s 2ms/step - loss: 0.4560 - accuracy: 0.5440 - val_loss: 0.4286 - val_accuracy: 0.5714\n",
      "Epoch 88/100\n",
      "97/97 [==============================] - 0s 1ms/step - loss: 0.4560 - accuracy: 0.5440 - val_loss: 0.4286 - val_accuracy: 0.5714\n",
      "Epoch 89/100\n",
      "97/97 [==============================] - 0s 1ms/step - loss: 0.4560 - accuracy: 0.5440 - val_loss: 0.4286 - val_accuracy: 0.5714\n",
      "Epoch 90/100\n",
      "97/97 [==============================] - 0s 1ms/step - loss: 0.4560 - accuracy: 0.5440 - val_loss: 0.4286 - val_accuracy: 0.5714\n",
      "Epoch 91/100\n",
      "97/97 [==============================] - 0s 1ms/step - loss: 0.4560 - accuracy: 0.5440 - val_loss: 0.4286 - val_accuracy: 0.5714\n",
      "Epoch 92/100\n",
      "97/97 [==============================] - 0s 1ms/step - loss: 0.4560 - accuracy: 0.5440 - val_loss: 0.4286 - val_accuracy: 0.5714\n",
      "Epoch 93/100\n",
      "97/97 [==============================] - 0s 1ms/step - loss: 0.4560 - accuracy: 0.5440 - val_loss: 0.4286 - val_accuracy: 0.5714\n",
      "Epoch 94/100\n",
      "97/97 [==============================] - 0s 2ms/step - loss: 0.4560 - accuracy: 0.5440 - val_loss: 0.4286 - val_accuracy: 0.5714\n",
      "Epoch 95/100\n",
      "97/97 [==============================] - 0s 1ms/step - loss: 0.4560 - accuracy: 0.5440 - val_loss: 0.4286 - val_accuracy: 0.5714\n",
      "Epoch 96/100\n",
      "97/97 [==============================] - 0s 1ms/step - loss: 0.4560 - accuracy: 0.5440 - val_loss: 0.4286 - val_accuracy: 0.5714\n",
      "Epoch 97/100\n",
      "97/97 [==============================] - 0s 1ms/step - loss: 0.4560 - accuracy: 0.5440 - val_loss: 0.4286 - val_accuracy: 0.5714\n",
      "Epoch 98/100\n",
      "97/97 [==============================] - 0s 1ms/step - loss: 0.4560 - accuracy: 0.5440 - val_loss: 0.4286 - val_accuracy: 0.5714\n",
      "Epoch 99/100\n",
      "97/97 [==============================] - 0s 1ms/step - loss: 0.4560 - accuracy: 0.5440 - val_loss: 0.4286 - val_accuracy: 0.5714\n",
      "Epoch 100/100\n",
      "97/97 [==============================] - 0s 1ms/step - loss: 0.4560 - accuracy: 0.5440 - val_loss: 0.4286 - val_accuracy: 0.5714\n"
     ]
    }
   ],
   "source": [
    "history = model.fit(X_train, y_train, validation_split=0.2, epochs=100, batch_size=2)"
   ]
  },
  {
   "cell_type": "markdown",
   "id": "895caa35",
   "metadata": {},
   "source": [
    "### 8.Evaluate"
   ]
  },
  {
   "cell_type": "code",
   "execution_count": 21,
   "id": "e7e625b4",
   "metadata": {},
   "outputs": [
    {
     "name": "stdout",
     "output_type": "stream",
     "text": [
      "2/2 [==============================] - 0s 3ms/step - loss: 0.4754 - accuracy: 0.5246\n"
     ]
    },
    {
     "data": {
      "text/plain": [
       "[0.4754098355770111, 0.5245901346206665]"
      ]
     },
     "execution_count": 21,
     "metadata": {},
     "output_type": "execute_result"
    }
   ],
   "source": [
    "model.evaluate(X_test, y_test)"
   ]
  },
  {
   "cell_type": "markdown",
   "id": "84624172",
   "metadata": {},
   "source": [
    "### 9.Print the model accuracy"
   ]
  },
  {
   "cell_type": "code",
   "execution_count": 22,
   "id": "060d8033",
   "metadata": {},
   "outputs": [
    {
     "data": {
      "text/plain": [
       "dict_keys(['loss', 'accuracy', 'val_loss', 'val_accuracy'])"
      ]
     },
     "execution_count": 22,
     "metadata": {},
     "output_type": "execute_result"
    }
   ],
   "source": [
    "history.history.keys()"
   ]
  },
  {
   "cell_type": "code",
   "execution_count": 23,
   "id": "a5e6d4f5",
   "metadata": {},
   "outputs": [],
   "source": [
    "import matplotlib.pyplot as plt"
   ]
  },
  {
   "cell_type": "code",
   "execution_count": 25,
   "id": "868c0770",
   "metadata": {},
   "outputs": [
    {
     "data": {
      "image/png": "[encoded data removed]",
      "text/plain": [
       "<Figure size 640x480 with 1 Axes>"
      ]
     },
     "metadata": {},
     "output_type": "display_data"
    },
    {
     "data": {
      "image/png": "[encoded data removed]",
      "text/plain": [
       "<Figure size 640x480 with 1 Axes>"
      ]
     },
     "metadata": {},
     "output_type": "display_data"
    }
   ],
   "source": [
    "plt.plot(history.history['accuracy'])\n",
    "plt.plot(history.history['val_accuracy'])\n",
    "plt.title('Model Accuracy')\n",
    "plt.ylabel('accuracy')\n",
    "plt.xlabel('epoch')\n",
    "plt.legend(['Train', 'Validation'])\n",
    "plt.show()\n",
    "plt.plot(history.history['loss'])\n",
    "plt.plot(history.history['val_loss'])\n",
    "plt.title('Model Loss')\n",
    "plt.ylabel('loss')\n",
    "plt.xlabel('epoch')\n",
    "plt.legend(['Train', 'Validation'])\n",
    "plt.show()"
   ]
  },
  {
   "cell_type": "markdown",
   "id": "8f8aa3c8",
   "metadata": {},
   "source": [
    "### 10.Further experiments"
   ]
  },
  {
   "cell_type": "code",
   "execution_count": 26,
   "id": "8778afc7",
   "metadata": {},
   "outputs": [],
   "source": [
    "model1 = Sequential()\n",
    "model1.add(Dense(16, input_dim=13, activation='relu'))\n",
    "model1.add(Dense(8, activation='relu'))\n",
    "model1.add(Dense(1, activation='sigmoid'))"
   ]
  },
  {
   "cell_type": "code",
   "execution_count": 27,
   "id": "e276ee73",
   "metadata": {},
   "outputs": [
    {
     "name": "stdout",
     "output_type": "stream",
     "text": [
      "Epoch 1/10\n",
      "9/9 [==============================] - 1s 2ms/step - loss: 0.4504 - accuracy: 0.5496\n",
      "Epoch 2/10\n",
      "9/9 [==============================] - 0s 2ms/step - loss: 0.4504 - accuracy: 0.5496\n",
      "Epoch 3/10\n",
      "9/9 [==============================] - 0s 2ms/step - loss: 0.4504 - accuracy: 0.5496\n",
      "Epoch 4/10\n",
      "9/9 [==============================] - 0s 2ms/step - loss: 0.4504 - accuracy: 0.5496\n",
      "Epoch 5/10\n",
      "9/9 [==============================] - 0s 2ms/step - loss: 0.4504 - accuracy: 0.5496\n",
      "Epoch 6/10\n",
      "9/9 [==============================] - 0s 2ms/step - loss: 0.4504 - accuracy: 0.5496\n",
      "Epoch 7/10\n",
      "9/9 [==============================] - 0s 2ms/step - loss: 0.4504 - accuracy: 0.5496\n",
      "Epoch 8/10\n",
      "9/9 [==============================] - 0s 1ms/step - loss: 0.4504 - accuracy: 0.5496\n",
      "Epoch 9/10\n",
      "9/9 [==============================] - 0s 2ms/step - loss: 0.4504 - accuracy: 0.5496\n",
      "Epoch 10/10\n",
      "9/9 [==============================] - 0s 2ms/step - loss: 0.4504 - accuracy: 0.5496\n"
     ]
    },
    {
     "data": {
      "text/plain": [
       "<keras.callbacks.History at 0x2dca5e8efb0>"
      ]
     },
     "execution_count": 27,
     "metadata": {},
     "output_type": "execute_result"
    }
   ],
   "source": [
    "model1.compile(loss='mse', optimizer=optimizer, metrics=['accuracy'])\n",
    "model1.fit(X_train, y_train, epochs=10, batch_size=30, verbose=1)"
   ]
  },
  {
   "cell_type": "code",
   "execution_count": 28,
   "id": "d57174bd",
   "metadata": {},
   "outputs": [
    {
     "name": "stdout",
     "output_type": "stream",
     "text": [
      "2/2 [==============================] - 0s 3ms/step - loss: 0.4754 - accuracy: 0.5246\n"
     ]
    },
    {
     "data": {
      "text/plain": [
       "[0.4754098355770111, 0.5245901346206665]"
      ]
     },
     "execution_count": 28,
     "metadata": {},
     "output_type": "execute_result"
    }
   ],
   "source": [
    "model1.evaluate(X_test, y_test)"
   ]
  },
  {
   "cell_type": "code",
   "execution_count": 31,
   "id": "6dfd25f0",
   "metadata": {},
   "outputs": [
    {
     "name": "stdout",
     "output_type": "stream",
     "text": [
      "Epoch 1/100\n",
      "65/65 [==============================] - 0s 2ms/step - loss: 0.4560 - accuracy: 0.5440 - val_loss: 0.4286 - val_accuracy: 0.5714\n",
      "Epoch 2/100\n",
      "65/65 [==============================] - 0s 2ms/step - loss: 0.4560 - accuracy: 0.5440 - val_loss: 0.4286 - val_accuracy: 0.5714\n",
      "Epoch 3/100\n",
      "65/65 [==============================] - 0s 2ms/step - loss: 0.4560 - accuracy: 0.5440 - val_loss: 0.4286 - val_accuracy: 0.5714\n",
      "Epoch 4/100\n",
      "65/65 [==============================] - 0s 2ms/step - loss: 0.4560 - accuracy: 0.5440 - val_loss: 0.4286 - val_accuracy: 0.5714\n",
      "Epoch 5/100\n",
      "65/65 [==============================] - 0s 2ms/step - loss: 0.4560 - accuracy: 0.5440 - val_loss: 0.4286 - val_accuracy: 0.5714\n",
      "Epoch 6/100\n",
      "65/65 [==============================] - 0s 2ms/step - loss: 0.4560 - accuracy: 0.5440 - val_loss: 0.4286 - val_accuracy: 0.5714\n",
      "Epoch 7/100\n",
      "65/65 [==============================] - 0s 2ms/step - loss: 0.4560 - accuracy: 0.5440 - val_loss: 0.4286 - val_accuracy: 0.5714\n",
      "Epoch 8/100\n",
      "65/65 [==============================] - 0s 2ms/step - loss: 0.4560 - accuracy: 0.5440 - val_loss: 0.4286 - val_accuracy: 0.5714\n",
      "Epoch 9/100\n",
      "65/65 [==============================] - 0s 2ms/step - loss: 0.4560 - accuracy: 0.5440 - val_loss: 0.4286 - val_accuracy: 0.5714\n",
      "Epoch 10/100\n",
      "65/65 [==============================] - 0s 2ms/step - loss: 0.4560 - accuracy: 0.5440 - val_loss: 0.4286 - val_accuracy: 0.5714\n",
      "Epoch 11/100\n",
      "65/65 [==============================] - 0s 2ms/step - loss: 0.4560 - accuracy: 0.5440 - val_loss: 0.4286 - val_accuracy: 0.5714\n",
      "Epoch 12/100\n",
      "65/65 [==============================] - 0s 2ms/step - loss: 0.4560 - accuracy: 0.5440 - val_loss: 0.4286 - val_accuracy: 0.5714\n",
      "Epoch 13/100\n",
      "65/65 [==============================] - 0s 2ms/step - loss: 0.4560 - accuracy: 0.5440 - val_loss: 0.4286 - val_accuracy: 0.5714\n",
      "Epoch 14/100\n",
      "65/65 [==============================] - 0s 2ms/step - loss: 0.4560 - accuracy: 0.5440 - val_loss: 0.4286 - val_accuracy: 0.5714\n",
      "Epoch 15/100\n",
      "65/65 [==============================] - 0s 2ms/step - loss: 0.4560 - accuracy: 0.5440 - val_loss: 0.4286 - val_accuracy: 0.5714\n",
      "Epoch 16/100\n",
      "65/65 [==============================] - 0s 2ms/step - loss: 0.4560 - accuracy: 0.5440 - val_loss: 0.4286 - val_accuracy: 0.5714\n",
      "Epoch 17/100\n",
      "65/65 [==============================] - 0s 2ms/step - loss: 0.4560 - accuracy: 0.5440 - val_loss: 0.4286 - val_accuracy: 0.5714\n",
      "Epoch 18/100\n",
      "65/65 [==============================] - 0s 2ms/step - loss: 0.4560 - accuracy: 0.5440 - val_loss: 0.4286 - val_accuracy: 0.5714\n",
      "Epoch 19/100\n",
      "65/65 [==============================] - 0s 2ms/step - loss: 0.4560 - accuracy: 0.5440 - val_loss: 0.4286 - val_accuracy: 0.5714\n",
      "Epoch 20/100\n",
      "65/65 [==============================] - 0s 2ms/step - loss: 0.4560 - accuracy: 0.5440 - val_loss: 0.4286 - val_accuracy: 0.5714\n",
      "Epoch 21/100\n",
      "65/65 [==============================] - 0s 2ms/step - loss: 0.4560 - accuracy: 0.5440 - val_loss: 0.4286 - val_accuracy: 0.5714\n",
      "Epoch 22/100\n",
      "65/65 [==============================] - 0s 2ms/step - loss: 0.4560 - accuracy: 0.5440 - val_loss: 0.4286 - val_accuracy: 0.5714\n",
      "Epoch 23/100\n",
      "65/65 [==============================] - 0s 2ms/step - loss: 0.4560 - accuracy: 0.5440 - val_loss: 0.4286 - val_accuracy: 0.5714\n",
      "Epoch 24/100\n",
      "65/65 [==============================] - 0s 2ms/step - loss: 0.4560 - accuracy: 0.5440 - val_loss: 0.4286 - val_accuracy: 0.5714\n",
      "Epoch 25/100\n",
      "65/65 [==============================] - 0s 2ms/step - loss: 0.4560 - accuracy: 0.5440 - val_loss: 0.4286 - val_accuracy: 0.5714\n",
      "Epoch 26/100\n",
      "65/65 [==============================] - 0s 2ms/step - loss: 0.4560 - accuracy: 0.5440 - val_loss: 0.4286 - val_accuracy: 0.5714\n",
      "Epoch 27/100\n",
      "65/65 [==============================] - 0s 2ms/step - loss: 0.4560 - accuracy: 0.5440 - val_loss: 0.4286 - val_accuracy: 0.5714\n",
      "Epoch 28/100\n",
      "65/65 [==============================] - 0s 2ms/step - loss: 0.4560 - accuracy: 0.5440 - val_loss: 0.4286 - val_accuracy: 0.5714\n",
      "Epoch 29/100\n",
      "65/65 [==============================] - 0s 2ms/step - loss: 0.4560 - accuracy: 0.5440 - val_loss: 0.4286 - val_accuracy: 0.5714\n",
      "Epoch 30/100\n",
      "65/65 [==============================] - 0s 2ms/step - loss: 0.4560 - accuracy: 0.5440 - val_loss: 0.4286 - val_accuracy: 0.5714\n",
      "Epoch 31/100\n",
      "65/65 [==============================] - 0s 2ms/step - loss: 0.4560 - accuracy: 0.5440 - val_loss: 0.4286 - val_accuracy: 0.5714\n",
      "Epoch 32/100\n",
      "65/65 [==============================] - 0s 2ms/step - loss: 0.4560 - accuracy: 0.5440 - val_loss: 0.4286 - val_accuracy: 0.5714\n",
      "Epoch 33/100\n",
      "65/65 [==============================] - 0s 2ms/step - loss: 0.4560 - accuracy: 0.5440 - val_loss: 0.4286 - val_accuracy: 0.5714\n",
      "Epoch 34/100\n",
      "65/65 [==============================] - 0s 2ms/step - loss: 0.4560 - accuracy: 0.5440 - val_loss: 0.4286 - val_accuracy: 0.5714\n",
      "Epoch 35/100\n",
      "65/65 [==============================] - 0s 2ms/step - loss: 0.4560 - accuracy: 0.5440 - val_loss: 0.4286 - val_accuracy: 0.5714\n",
      "Epoch 36/100\n",
      "65/65 [==============================] - 0s 2ms/step - loss: 0.4560 - accuracy: 0.5440 - val_loss: 0.4286 - val_accuracy: 0.5714\n",
      "Epoch 37/100\n",
      "65/65 [==============================] - 0s 2ms/step - loss: 0.4560 - accuracy: 0.5440 - val_loss: 0.4286 - val_accuracy: 0.5714\n",
      "Epoch 38/100\n",
      "65/65 [==============================] - 0s 2ms/step - loss: 0.4560 - accuracy: 0.5440 - val_loss: 0.4286 - val_accuracy: 0.5714\n",
      "Epoch 39/100\n",
      "65/65 [==============================] - 0s 2ms/step - loss: 0.4560 - accuracy: 0.5440 - val_loss: 0.4286 - val_accuracy: 0.5714\n",
      "Epoch 40/100\n",
      "65/65 [==============================] - 0s 2ms/step - loss: 0.4560 - accuracy: 0.5440 - val_loss: 0.4286 - val_accuracy: 0.5714\n",
      "Epoch 41/100\n",
      "65/65 [==============================] - 0s 2ms/step - loss: 0.4560 - accuracy: 0.5440 - val_loss: 0.4286 - val_accuracy: 0.5714\n",
      "Epoch 42/100\n",
      "65/65 [==============================] - 0s 2ms/step - loss: 0.4560 - accuracy: 0.5440 - val_loss: 0.4286 - val_accuracy: 0.5714\n",
      "Epoch 43/100\n",
      "65/65 [==============================] - 0s 2ms/step - loss: 0.4560 - accuracy: 0.5440 - val_loss: 0.4286 - val_accuracy: 0.5714\n",
      "Epoch 44/100\n",
      "65/65 [==============================] - 0s 2ms/step - loss: 0.4560 - accuracy: 0.5440 - val_loss: 0.4286 - val_accuracy: 0.5714\n",
      "Epoch 45/100\n",
      "65/65 [==============================] - 0s 2ms/step - loss: 0.4560 - accuracy: 0.5440 - val_loss: 0.4286 - val_accuracy: 0.5714\n",
      "Epoch 46/100\n",
      "65/65 [==============================] - 0s 2ms/step - loss: 0.4560 - accuracy: 0.5440 - val_loss: 0.4286 - val_accuracy: 0.5714\n",
      "Epoch 47/100\n",
      "65/65 [==============================] - 0s 2ms/step - loss: 0.4560 - accuracy: 0.5440 - val_loss: 0.4286 - val_accuracy: 0.5714\n",
      "Epoch 48/100\n",
      "65/65 [==============================] - 0s 2ms/step - loss: 0.4560 - accuracy: 0.5440 - val_loss: 0.4286 - val_accuracy: 0.5714\n",
      "Epoch 49/100\n",
      "65/65 [==============================] - 0s 2ms/step - loss: 0.4560 - accuracy: 0.5440 - val_loss: 0.4286 - val_accuracy: 0.5714\n",
      "Epoch 50/100\n",
      "65/65 [==============================] - 0s 2ms/step - loss: 0.4560 - accuracy: 0.5440 - val_loss: 0.4286 - val_accuracy: 0.5714\n",
      "Epoch 51/100\n",
      "65/65 [==============================] - 0s 2ms/step - loss: 0.4560 - accuracy: 0.5440 - val_loss: 0.4286 - val_accuracy: 0.5714\n",
      "Epoch 52/100\n",
      "65/65 [==============================] - 0s 2ms/step - loss: 0.4560 - accuracy: 0.5440 - val_loss: 0.4286 - val_accuracy: 0.5714\n",
      "Epoch 53/100\n",
      "65/65 [==============================] - 0s 2ms/step - loss: 0.4560 - accuracy: 0.5440 - val_loss: 0.4286 - val_accuracy: 0.5714\n",
      "Epoch 54/100\n",
      "65/65 [==============================] - 0s 2ms/step - loss: 0.4560 - accuracy: 0.5440 - val_loss: 0.4286 - val_accuracy: 0.5714\n",
      "Epoch 55/100\n",
      "65/65 [==============================] - 0s 2ms/step - loss: 0.4560 - accuracy: 0.5440 - val_loss: 0.4286 - val_accuracy: 0.5714\n",
      "Epoch 56/100\n",
      "65/65 [==============================] - 0s 2ms/step - loss: 0.4560 - accuracy: 0.5440 - val_loss: 0.4286 - val_accuracy: 0.5714\n",
      "Epoch 57/100\n",
      "65/65 [==============================] - 0s 2ms/step - loss: 0.4560 - accuracy: 0.5440 - val_loss: 0.4286 - val_accuracy: 0.5714\n",
      "Epoch 58/100\n",
      "65/65 [==============================] - 0s 2ms/step - loss: 0.4560 - accuracy: 0.5440 - val_loss: 0.4286 - val_accuracy: 0.5714\n",
      "Epoch 59/100\n",
      "65/65 [==============================] - 0s 2ms/step - loss: 0.4560 - accuracy: 0.5440 - val_loss: 0.4286 - val_accuracy: 0.5714\n",
      "Epoch 60/100\n",
      "65/65 [==============================] - 0s 2ms/step - loss: 0.4560 - accuracy: 0.5440 - val_loss: 0.4286 - val_accuracy: 0.5714\n",
      "Epoch 61/100\n",
      "65/65 [==============================] - 0s 2ms/step - loss: 0.4560 - accuracy: 0.5440 - val_loss: 0.4286 - val_accuracy: 0.5714\n",
      "Epoch 62/100\n",
      "65/65 [==============================] - 0s 2ms/step - loss: 0.4560 - accuracy: 0.5440 - val_loss: 0.4286 - val_accuracy: 0.5714\n",
      "Epoch 63/100\n",
      "65/65 [==============================] - 0s 2ms/step - loss: 0.4560 - accuracy: 0.5440 - val_loss: 0.4286 - val_accuracy: 0.5714\n",
      "Epoch 64/100\n",
      "65/65 [==============================] - 0s 2ms/step - loss: 0.4560 - accuracy: 0.5440 - val_loss: 0.4286 - val_accuracy: 0.5714\n",
      "Epoch 65/100\n",
      "65/65 [==============================] - 0s 2ms/step - loss: 0.4560 - accuracy: 0.5440 - val_loss: 0.4286 - val_accuracy: 0.5714\n",
      "Epoch 66/100\n",
      "65/65 [==============================] - 0s 2ms/step - loss: 0.4560 - accuracy: 0.5440 - val_loss: 0.4286 - val_accuracy: 0.5714\n",
      "Epoch 67/100\n",
      "65/65 [==============================] - 0s 2ms/step - loss: 0.4560 - accuracy: 0.5440 - val_loss: 0.4286 - val_accuracy: 0.5714\n",
      "Epoch 68/100\n",
      "65/65 [==============================] - 0s 2ms/step - loss: 0.4560 - accuracy: 0.5440 - val_loss: 0.4286 - val_accuracy: 0.5714\n",
      "Epoch 69/100\n",
      "65/65 [==============================] - 0s 2ms/step - loss: 0.4560 - accuracy: 0.5440 - val_loss: 0.4286 - val_accuracy: 0.5714\n",
      "Epoch 70/100\n",
      "65/65 [==============================] - 0s 2ms/step - loss: 0.4560 - accuracy: 0.5440 - val_loss: 0.4286 - val_accuracy: 0.5714\n",
      "Epoch 71/100\n",
      "65/65 [==============================] - 0s 2ms/step - loss: 0.4560 - accuracy: 0.5440 - val_loss: 0.4286 - val_accuracy: 0.5714\n",
      "Epoch 72/100\n",
      "65/65 [==============================] - 0s 3ms/step - loss: 0.4560 - accuracy: 0.5440 - val_loss: 0.4286 - val_accuracy: 0.5714\n",
      "Epoch 73/100\n",
      "65/65 [==============================] - 0s 2ms/step - loss: 0.4560 - accuracy: 0.5440 - val_loss: 0.4286 - val_accuracy: 0.5714\n",
      "Epoch 74/100\n",
      "65/65 [==============================] - 0s 2ms/step - loss: 0.4560 - accuracy: 0.5440 - val_loss: 0.4286 - val_accuracy: 0.5714\n",
      "Epoch 75/100\n",
      "65/65 [==============================] - 0s 2ms/step - loss: 0.4560 - accuracy: 0.5440 - val_loss: 0.4286 - val_accuracy: 0.5714\n",
      "Epoch 76/100\n",
      "65/65 [==============================] - 0s 2ms/step - loss: 0.4560 - accuracy: 0.5440 - val_loss: 0.4286 - val_accuracy: 0.5714\n",
      "Epoch 77/100\n",
      "65/65 [==============================] - 0s 2ms/step - loss: 0.4560 - accuracy: 0.5440 - val_loss: 0.4286 - val_accuracy: 0.5714\n",
      "Epoch 78/100\n",
      "65/65 [==============================] - 0s 3ms/step - loss: 0.4560 - accuracy: 0.5440 - val_loss: 0.4286 - val_accuracy: 0.5714\n",
      "Epoch 79/100\n",
      "65/65 [==============================] - 0s 2ms/step - loss: 0.4560 - accuracy: 0.5440 - val_loss: 0.4286 - val_accuracy: 0.5714\n",
      "Epoch 80/100\n",
      "65/65 [==============================] - 0s 2ms/step - loss: 0.4560 - accuracy: 0.5440 - val_loss: 0.4286 - val_accuracy: 0.5714\n",
      "Epoch 81/100\n",
      "65/65 [==============================] - 0s 2ms/step - loss: 0.4560 - accuracy: 0.5440 - val_loss: 0.4286 - val_accuracy: 0.5714\n",
      "Epoch 82/100\n",
      "65/65 [==============================] - 0s 2ms/step - loss: 0.4560 - accuracy: 0.5440 - val_loss: 0.4286 - val_accuracy: 0.5714\n",
      "Epoch 83/100\n",
      "65/65 [==============================] - 0s 2ms/step - loss: 0.4560 - accuracy: 0.5440 - val_loss: 0.4286 - val_accuracy: 0.5714\n",
      "Epoch 84/100\n",
      "65/65 [==============================] - 0s 2ms/step - loss: 0.4560 - accuracy: 0.5440 - val_loss: 0.4286 - val_accuracy: 0.5714\n",
      "Epoch 85/100\n",
      "65/65 [==============================] - 0s 3ms/step - loss: 0.4560 - accuracy: 0.5440 - val_loss: 0.4286 - val_accuracy: 0.5714\n",
      "Epoch 86/100\n",
      "65/65 [==============================] - 0s 2ms/step - loss: 0.4560 - accuracy: 0.5440 - val_loss: 0.4286 - val_accuracy: 0.5714\n",
      "Epoch 87/100\n",
      "65/65 [==============================] - 0s 2ms/step - loss: 0.4560 - accuracy: 0.5440 - val_loss: 0.4286 - val_accuracy: 0.5714\n",
      "Epoch 88/100\n",
      "65/65 [==============================] - 0s 2ms/step - loss: 0.4560 - accuracy: 0.5440 - val_loss: 0.4286 - val_accuracy: 0.5714\n",
      "Epoch 89/100\n",
      "65/65 [==============================] - 0s 2ms/step - loss: 0.4560 - accuracy: 0.5440 - val_loss: 0.4286 - val_accuracy: 0.5714\n",
      "Epoch 90/100\n",
      "65/65 [==============================] - 0s 2ms/step - loss: 0.4560 - accuracy: 0.5440 - val_loss: 0.4286 - val_accuracy: 0.5714\n",
      "Epoch 91/100\n",
      "65/65 [==============================] - 0s 2ms/step - loss: 0.4560 - accuracy: 0.5440 - val_loss: 0.4286 - val_accuracy: 0.5714\n",
      "Epoch 92/100\n",
      "65/65 [==============================] - 0s 2ms/step - loss: 0.4560 - accuracy: 0.5440 - val_loss: 0.4286 - val_accuracy: 0.5714\n",
      "Epoch 93/100\n",
      "65/65 [==============================] - 0s 2ms/step - loss: 0.4560 - accuracy: 0.5440 - val_loss: 0.4286 - val_accuracy: 0.5714\n",
      "Epoch 94/100\n",
      "65/65 [==============================] - 0s 2ms/step - loss: 0.4560 - accuracy: 0.5440 - val_loss: 0.4286 - val_accuracy: 0.5714\n",
      "Epoch 95/100\n",
      "65/65 [==============================] - 0s 2ms/step - loss: 0.4560 - accuracy: 0.5440 - val_loss: 0.4286 - val_accuracy: 0.5714\n",
      "Epoch 96/100\n",
      "65/65 [==============================] - 0s 2ms/step - loss: 0.4560 - accuracy: 0.5440 - val_loss: 0.4286 - val_accuracy: 0.5714\n",
      "Epoch 97/100\n",
      "65/65 [==============================] - 0s 2ms/step - loss: 0.4560 - accuracy: 0.5440 - val_loss: 0.4286 - val_accuracy: 0.5714\n",
      "Epoch 98/100\n",
      "65/65 [==============================] - 0s 2ms/step - loss: 0.4560 - accuracy: 0.5440 - val_loss: 0.4286 - val_accuracy: 0.5714\n",
      "Epoch 99/100\n",
      "65/65 [==============================] - 0s 2ms/step - loss: 0.4560 - accuracy: 0.5440 - val_loss: 0.4286 - val_accuracy: 0.5714\n",
      "Epoch 100/100\n",
      "65/65 [==============================] - 0s 2ms/step - loss: 0.4560 - accuracy: 0.5440 - val_loss: 0.4286 - val_accuracy: 0.5714\n"
     ]
    }
   ],
   "source": [
    "history1 = model.fit(X_train, y_train, validation_split=0.2, epochs=100, batch_size=3)"
   ]
  },
  {
   "cell_type": "code",
   "execution_count": 32,
   "id": "f34c45c1",
   "metadata": {},
   "outputs": [
    {
     "name": "stdout",
     "output_type": "stream",
     "text": [
      "Model: \"sequential_1\"\n",
      "_________________________________________________________________\n",
      " Layer (type)                Output Shape              Param #   \n",
      "=================================================================\n",
      " dense_2 (Dense)             (None, 16)                224       \n",
      "                                                                 \n",
      " dense_3 (Dense)             (None, 8)                 136       \n",
      "                                                                 \n",
      " dense_4 (Dense)             (None, 1)                 9         \n",
      "                                                                 \n",
      "=================================================================\n",
      "Total params: 369\n",
      "Trainable params: 369\n",
      "Non-trainable params: 0\n",
      "_________________________________________________________________\n"
     ]
    }
   ],
   "source": [
    "model1.summary()"
   ]
  },
  {
   "cell_type": "code",
   "execution_count": 33,
   "id": "71cbb64b",
   "metadata": {},
   "outputs": [],
   "source": [
    "ls = history1.history"
   ]
  },
  {
   "cell_type": "code",
   "execution_count": 34,
   "id": "fe45ebe8",
   "metadata": {},
   "outputs": [
    {
     "data": {
      "text/html": [
       "<div>\n",
       "<style scoped>\n",
       "    .dataframe tbody tr th:only-of-type {\n",
       "        vertical-align: middle;\n",
       "    }\n",
       "\n",
       "    .dataframe tbody tr th {\n",
       "        vertical-align: top;\n",
       "    }\n",
       "\n",
       "    .dataframe thead th {\n",
       "        text-align: right;\n",
       "    }\n",
       "</style>\n",
       "<table border=\"1\" class=\"dataframe\">\n",
       "  <thead>\n",
       "    <tr style=\"text-align: right;\">\n",
       "      <th></th>\n",
       "      <th>loss</th>\n",
       "      <th>accuracy</th>\n",
       "      <th>val_loss</th>\n",
       "      <th>val_accuracy</th>\n",
       "    </tr>\n",
       "  </thead>\n",
       "  <tbody>\n",
       "    <tr>\n",
       "      <th>0</th>\n",
       "      <td>0.455959</td>\n",
       "      <td>0.544041</td>\n",
       "      <td>0.428571</td>\n",
       "      <td>0.571429</td>\n",
       "    </tr>\n",
       "    <tr>\n",
       "      <th>1</th>\n",
       "      <td>0.455959</td>\n",
       "      <td>0.544041</td>\n",
       "      <td>0.428571</td>\n",
       "      <td>0.571429</td>\n",
       "    </tr>\n",
       "    <tr>\n",
       "      <th>2</th>\n",
       "      <td>0.455959</td>\n",
       "      <td>0.544041</td>\n",
       "      <td>0.428571</td>\n",
       "      <td>0.571429</td>\n",
       "    </tr>\n",
       "    <tr>\n",
       "      <th>3</th>\n",
       "      <td>0.455959</td>\n",
       "      <td>0.544041</td>\n",
       "      <td>0.428571</td>\n",
       "      <td>0.571429</td>\n",
       "    </tr>\n",
       "    <tr>\n",
       "      <th>4</th>\n",
       "      <td>0.455959</td>\n",
       "      <td>0.544041</td>\n",
       "      <td>0.428571</td>\n",
       "      <td>0.571429</td>\n",
       "    </tr>\n",
       "    <tr>\n",
       "      <th>...</th>\n",
       "      <td>...</td>\n",
       "      <td>...</td>\n",
       "      <td>...</td>\n",
       "      <td>...</td>\n",
       "    </tr>\n",
       "    <tr>\n",
       "      <th>95</th>\n",
       "      <td>0.455959</td>\n",
       "      <td>0.544041</td>\n",
       "      <td>0.428571</td>\n",
       "      <td>0.571429</td>\n",
       "    </tr>\n",
       "    <tr>\n",
       "      <th>96</th>\n",
       "      <td>0.455959</td>\n",
       "      <td>0.544041</td>\n",
       "      <td>0.428571</td>\n",
       "      <td>0.571429</td>\n",
       "    </tr>\n",
       "    <tr>\n",
       "      <th>97</th>\n",
       "      <td>0.455959</td>\n",
       "      <td>0.544041</td>\n",
       "      <td>0.428571</td>\n",
       "      <td>0.571429</td>\n",
       "    </tr>\n",
       "    <tr>\n",
       "      <th>98</th>\n",
       "      <td>0.455959</td>\n",
       "      <td>0.544041</td>\n",
       "      <td>0.428571</td>\n",
       "      <td>0.571429</td>\n",
       "    </tr>\n",
       "    <tr>\n",
       "      <th>99</th>\n",
       "      <td>0.455959</td>\n",
       "      <td>0.544041</td>\n",
       "      <td>0.428571</td>\n",
       "      <td>0.571429</td>\n",
       "    </tr>\n",
       "  </tbody>\n",
       "</table>\n",
       "<p>100 rows × 4 columns</p>\n",
       "</div>"
      ],
      "text/plain": [
       "        loss  accuracy  val_loss  val_accuracy\n",
       "0   0.455959  0.544041  0.428571      0.571429\n",
       "1   0.455959  0.544041  0.428571      0.571429\n",
       "2   0.455959  0.544041  0.428571      0.571429\n",
       "3   0.455959  0.544041  0.428571      0.571429\n",
       "4   0.455959  0.544041  0.428571      0.571429\n",
       "..       ...       ...       ...           ...\n",
       "95  0.455959  0.544041  0.428571      0.571429\n",
       "96  0.455959  0.544041  0.428571      0.571429\n",
       "97  0.455959  0.544041  0.428571      0.571429\n",
       "98  0.455959  0.544041  0.428571      0.571429\n",
       "99  0.455959  0.544041  0.428571      0.571429\n",
       "\n",
       "[100 rows x 4 columns]"
      ]
     },
     "execution_count": 34,
     "metadata": {},
     "output_type": "execute_result"
    }
   ],
   "source": [
    "new = pd.DataFrame.from_dict(ls)\n",
    "new"
   ]
  },
  {
   "cell_type": "code",
   "execution_count": 35,
   "id": "bbe37607",
   "metadata": {},
   "outputs": [],
   "source": [
    "model2 = Sequential()\n",
    "model2.add(Dense(32, input_dim=13, activation='relu'))\n",
    "model2.add(Dense(16, activation='relu'))\n",
    "model2.add(Dense(8, activation='relu'))\n",
    "model2.add(Dense(1, activation='sigmoid'))"
   ]
  },
  {
   "cell_type": "code",
   "execution_count": null,
   "id": "874c012f",
   "metadata": {},
   "outputs": [],
   "source": []
  }
 ],
 "metadata": {
  "kernelspec": {
   "display_name": "Python 3 (ipykernel)",
   "language": "python",
   "name": "python3"
  },
  "language_info": {
   "codemirror_mode": {
    "name": "ipython",
    "version": 3
   },
   "file_extension": ".py",
   "mimetype": "text/x-python",
   "name": "python",
   "nbconvert_exporter": "python",
   "pygments_lexer": "ipython3",
   "version": "3.9.12"
  }
 },
 "nbformat": 4,
 "nbformat_minor": 5
}
